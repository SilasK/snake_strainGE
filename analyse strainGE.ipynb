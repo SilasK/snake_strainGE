{
 "cells": [
  {
   "cell_type": "code",
   "execution_count": 78,
   "id": "7b1ace9a-d873-421d-9533-3abb663654e1",
   "metadata": {},
   "outputs": [],
   "source": [
    "from pathlib import Path\n",
    "\n",
    "import numpy\n",
    "import pandas as pd\n",
    "import matplotlib.pyplot as plt\n",
    "from IPython.display import display"
   ]
  },
  {
   "cell_type": "code",
   "execution_count": null,
   "id": "eff8cf31-4b80-4685-a3c4-b65af6c933b5",
   "metadata": {},
   "outputs": [],
   "source": []
  },
  {
   "cell_type": "raw",
   "id": "9bd5873c-a866-4a6e-a07f-020118646a05",
   "metadata": {},
   "source": [
    "STRAINGST_DIR = Path(\"../Respiratory/StrainGE/Intermediate_files/StrainGST/\")\n",
    "\n",
    "df_list = []\n",
    "sample_names = []\n",
    "for f in STRAINGST_DIR.glob(\"*.tsv\"):\n",
    "    sample_name = f.stem\n",
    "    df = pandas.read_csv(f, sep='\\t', comment='#', skiprows=2, index_col=1)\n",
    "\n",
    "    df_list.append(df)\n",
    "    sample_names.append(sample_name)\n",
    "\n",
    "\n",
    "# Combine all StrainGST results from each sample into a single DataFrame.\n",
    "straingst_df = pandas.concat(df_list, keys=sample_names, names=[\"sample\"])\n",
    "\n",
    "sample_names = list(sorted(sample_names, key=lambda e: float(e.replace(\"UMB11_\", \"\"))))\n",
    "straingst_df.sort_index()"
   ]
  },
  {
   "cell_type": "code",
   "execution_count": null,
   "id": "263e2ba9-0c73-4d2e-8b90-d2f6f601bcfa",
   "metadata": {},
   "outputs": [],
   "source": [
    "straingst_df = pd.read_table(\"../Respiratory/StrainGE/StrainGST.tsv\", index_col=[0,1])\n",
    "straingst_df.head()"
   ]
  },
  {
   "cell_type": "code",
   "execution_count": null,
   "id": "bf4bb5ea-70d9-4512-9230-036b03f60627",
   "metadata": {},
   "outputs": [],
   "source": [
    "\n"
   ]
  },
  {
   "cell_type": "code",
   "execution_count": 112,
   "id": "73087a31-67d1-46e4-b751-70dd40876bb0",
   "metadata": {},
   "outputs": [],
   "source": [
    "STRAINGR_DIR = Path(\"../Respiratory/StrainGE/Intermediate_files/StrainGR/summary/\")\n",
    "\n",
    "df_list = []\n",
    "sample_names = []\n",
    "for f in STRAINGR_DIR.glob(\"*.tsv\"):\n",
    "    df = pandas.read_csv(f, sep='\\t', index_col=0)\n",
    "    df = df.drop(index='TOTAL')  # Remove TOTAL statistics\n",
    "\n",
    "    df_list.append(df)\n",
    "    sample_names.append(f.stem)\n",
    "\n",
    "straingr_df = pandas.concat(df_list, keys=sample_names, names=[\"sample\"])\n",
    "\n",
    "straingr_df['straingst_present'] = straingr_df.index.isin(straingst_df.index)\n",
    "\n",
    "straingr_df.to_csv(\"../Respiratory/StrainGE/StrainGR_summary.tsv\", sep='\\t')"
   ]
  },
  {
   "cell_type": "code",
   "execution_count": 81,
   "id": "9f57333f-275b-45a3-a150-5727891b22cb",
   "metadata": {},
   "outputs": [],
   "source": [
    "\n",
    "straingr_df['is_plasmid'] = straingr_df['length'] < 4e4\n",
    "straingr_df['enough_cov'] = straingr_df['coverage'] > 0.5"
   ]
  },
  {
   "cell_type": "code",
   "execution_count": null,
   "id": "3c90b7ab-ebb5-4990-9836-52b8ed8f8d3a",
   "metadata": {
    "tags": []
   },
   "outputs": [],
   "source": [
    "\n",
    "\n",
    "# Filter and re-index\n",
    "straingr_df = straingr_df[straingr_df['straingst_present'] & ~straingr_df['is_plasmid'] & straingr_df['enough_cov']].reset_index().set_index(['sample', 'ref'])\n",
    "straingr_df"
   ]
  },
  {
   "cell_type": "markdown",
   "id": "0c973ecf-a9a2-42a5-a35c-8ba1217e1c24",
   "metadata": {},
   "source": [
    "# Comparison data\n",
    "\n",
    "not yet finished"
   ]
  },
  {
   "cell_type": "code",
   "execution_count": null,
   "id": "65a98fe5-e225-42dd-b707-479dd2818010",
   "metadata": {},
   "outputs": [],
   "source": [
    "Comparison_dir= Path(\"../Respiratory/StrainGE/Intermediate_files/StrainGR/comparisons/summary/\")\n",
    "\n",
    "# increases with time\n",
    "comparison_list = list(Comparison_dir.glob(\"*.tsv\"))\n",
    "print(len(comparison_list) )\n",
    "\n",
    "df_list =[]\n",
    "for file in comparison_list:\n",
    "    try: \n",
    "        df= pd.read_table(file, index_col=[0,1,2])\n",
    "        df_list.append(df)\n",
    "    except pd.errors.EmptyDataError:\n",
    "        pass\n",
    "    \n",
    "compare_df = pandas.concat(df_list)\n",
    "compare_df.to_csv(\"../Respiratory/StrainGE/Comparisons_temp.tsv\",sep=\"\\t\")"
   ]
  },
  {
   "cell_type": "code",
   "execution_count": null,
   "id": "76670a3f-7b64-42ce-991b-3ce0374bcf8f",
   "metadata": {},
   "outputs": [],
   "source": [
    "\n"
   ]
  },
  {
   "cell_type": "code",
   "execution_count": 100,
   "id": "683ffd99-dedd-4198-8e5c-92bffde203df",
   "metadata": {
    "tags": []
   },
   "outputs": [],
   "source": [
    "straingr_df[\"Species\"] = straingr_df.index.get_level_values(1).map(lambda s: \" \".join(s.split(\"_\",2)[:2]))"
   ]
  },
  {
   "cell_type": "code",
   "execution_count": 110,
   "id": "2ee4c669-0d63-4de7-8477-1c2785441d8d",
   "metadata": {},
   "outputs": [
    {
     "data": {
      "text/plain": [
       "(77,)"
      ]
     },
     "execution_count": 110,
     "metadata": {},
     "output_type": "execute_result"
    }
   ],
   "source": [
    "straingr_df.query('Species==\"Stre pneumoniae\"').index.get_level_values(0).unique().shape"
   ]
  },
  {
   "cell_type": "code",
   "execution_count": 111,
   "id": "a809a50a-7184-4d66-a7b5-c629aa28e811",
   "metadata": {},
   "outputs": [
    {
     "data": {
      "text/plain": [
       "(15,)"
      ]
     },
     "execution_count": 111,
     "metadata": {},
     "output_type": "execute_result"
    }
   ],
   "source": [
    "straingr_df.query('Species==\"Stap aureus\"').index.get_level_values(0).unique().shape"
   ]
  },
  {
   "cell_type": "code",
   "execution_count": 93,
   "id": "70b73234-9b2d-4695-a1d9-8da2165b9b50",
   "metadata": {
    "tags": []
   },
   "outputs": [],
   "source": [
    "# comparison\n",
    "\n",
    "compare_df = pandas.read_csv(\"../Respiratory/StrainGE/Comparisons_temp.tsv\", sep='\\t', index_col=[0, 1, 2])\n",
    "\n",
    "def both_straingst_present(ix):\n",
    "    sample1, sample2, ref = ix\n",
    "\n",
    "    return (sample1, ref) in straingr_df.index and (sample2, ref) in straingr_df.index\n",
    "\n",
    "compare_df['both_present'] = compare_df.index.map(both_straingst_present)\n",
    "compare_df = compare_df[compare_df['both_present']].copy()\n",
    "\n",
    "\n",
    "# add species and genus\n",
    "\n",
    "compare_df[\"Species\"] = compare_df.index.get_level_values(2).map(lambda s: \" \".join(s.split(\"_\",2)[:2]))\n",
    "compare_df[\"Genus\"] = compare_df.index.get_level_values(2).str.split(\"_\",1,expand=True).to_frame()[0].map({\"Stre\":\"Streptococcus\",\"Stap\":\"Staphylococcus\"}).values\n",
    "\n",
    "\n",
    "\n",
    "\n",
    "all_compare_df= compare_df.copy()\n"
   ]
  },
  {
   "cell_type": "code",
   "execution_count": 94,
   "id": "a4b4afcf-5c82-4a69-8663-e24e8d5031e9",
   "metadata": {},
   "outputs": [],
   "source": [
    "# filter\n",
    "compare_df= all_compare_df.query(\"commonPct>20\")"
   ]
  },
  {
   "cell_type": "code",
   "execution_count": 95,
   "id": "f8a00ba5-1342-42c3-b292-48b70e594afe",
   "metadata": {},
   "outputs": [
    {
     "name": "stderr",
     "output_type": "stream",
     "text": [
      "No artists with labels found to put in legend.  Note that artists whose label start with an underscore are ignored when legend() is called with no argument.\n"
     ]
    },
    {
     "data": {
      "text/plain": [
       "<matplotlib.legend.Legend at 0x7fdc97264610>"
      ]
     },
     "execution_count": 95,
     "metadata": {},
     "output_type": "execute_result"
    },
    {
     "data": {
      "image/png": "[encoded data removed]",
      "text/plain": [
       "<Figure size 640x480 with 1 Axes>"
      ]
     },
     "metadata": {},
     "output_type": "display_data"
    }
   ],
   "source": [
    "#plot\n",
    "\n",
    "import seaborn as sns\n",
    "\n",
    "sns.scatterplot(x=\"gapJaccardSim\", y=\"singleAgreePct\", size=\"commonPct\", data=compare_df.query(\"Genus=='Streptococcus'\"), hue=\"Species\")\n",
    "\n",
    "#plt.xlim(0.970, 1)\n",
    "plt.xlabel(\"Gap similarity\")\n",
    "\n",
    "#plt.ylim(99.9, 100)\n",
    "plt.ylabel(\"ACNI\")\n",
    "plt.gca().yaxis.set_major_formatter(\"{x:g}%\")\n",
    "\n",
    "plt.grid('on')\n",
    "plt.legend(title=\"Common\\nCallable [%]\", loc=\"center left\", bbox_to_anchor=(1.05, 0.5))"
   ]
  },
  {
   "cell_type": "code",
   "execution_count": null,
   "id": "04208a7d-fef7-4b89-a01d-7838bfb42d5b",
   "metadata": {},
   "outputs": [],
   "source": [
    "#plot\n",
    "\n",
    "import seaborn as sns\n",
    "\n",
    "sns.scatterplot(x=\"gapJaccardSim\", y=\"singleAgreePct\", size=\"commonPct\", \n",
    "                data=compare_df.query(\"Genus=='Staphylococcus'\"), hue=\"ref\")\n",
    "\n",
    "#plt.xlim(0.970, 1)\n",
    "plt.xlabel(\"Gap similarity\")\n",
    "\n",
    "#plt.ylim(99.9, 100)\n",
    "plt.ylabel(\"ACNI\")\n",
    "plt.gca().yaxis.set_major_formatter(\"{x:g}%\")\n",
    "\n",
    "plt.grid('on')\n",
    "plt.legend(title=\"Common\\nCallable [%]\", loc=\"center left\", bbox_to_anchor=(1.05, 0.5))"
   ]
  },
  {
   "cell_type": "markdown",
   "id": "7ee1173e-7ecd-41d7-8b36-8f779acc152c",
   "metadata": {},
   "source": [
    "StrainGR compares positions within the “callable genome” or the set of positions with any reference or alternative allele supported by at least two good reads and > 10% of the alignment pileup (Fig. 1c). To perform a comparison, only “common callable” positions are considered, which represent the subset of the callable genome for a given reference that is shared by two samples. Strain relationships can be assessed using two key metrics: (i) the Average Callable Nucleotide Identity (ACNI), or the percentage of common callable positions where both samples have a single identical base call, and (ii) a “gap similarity” metric, as patterns of large deletions are often conserved between closely related strains, which can provide an orthogonal metric of strain similarity [23]. The ACNI and gap similarity values that define two samples as containing the same “strain” depend on the research question [7]. For the purposes of this manuscript, we consider two samples to contain the same strain if ACNI is ≥ 99.95%, which"
   ]
  },
  {
   "cell_type": "code",
   "execution_count": null,
   "id": "050a57c7-aee0-4cd9-a837-bd13dad6167f",
   "metadata": {},
   "outputs": [],
   "source": [
    "compare_df.query(\"singleAgreePct>99.95\") "
   ]
  },
  {
   "cell_type": "code",
   "execution_count": null,
   "id": "b89d25c4-f3ed-4fbf-8f74-a4845f8a95b6",
   "metadata": {},
   "outputs": [],
   "source": []
  }
 ],
 "metadata": {
  "kernelspec": {
   "display_name": "Python 3 (ipykernel)",
   "language": "python",
   "name": "python3"
  },
  "language_info": {
   "codemirror_mode": {
    "name": "ipython",
    "version": 3
   },
   "file_extension": ".py",
   "mimetype": "text/x-python",
   "name": "python",
   "nbconvert_exporter": "python",
   "pygments_lexer": "ipython3",
   "version": "3.9.12"
  }
 },
 "nbformat": 4,
 "nbformat_minor": 5
}
